{
 "cells": [
  {
   "cell_type": "code",
   "execution_count": 1,
   "id": "bf516257",
   "metadata": {},
   "outputs": [],
   "source": [
    "import pandas as pd\n",
    "import numpy as np\n",
    "from src.pipeline import INTDataProcessor"
   ]
  },
  {
   "cell_type": "code",
   "execution_count": 2,
   "id": "c8146395",
   "metadata": {},
   "outputs": [
    {
     "name": "stderr",
     "output_type": "stream",
     "text": [
      "INFO:src.pipeline:Iniciando pipeline de processamento...\n",
      "INFO:src.loader:Datasets carregados: sinusoid\n",
      "INFO:src.loader:Log shape: (575706, 31), DASH shape: (31243, 18)\n",
      "INFO:src.useless:Removidas 12 colunas constantes: ['switchID_t3', 'ingress_port3', 'egress_port3', 'egress_spec3', 'switchID_t2', 'ingress_port2', 'egress_port2', 'egress_spec2', 'switchID_t1', 'ingress_port1', 'egress_port1', 'egress_spec1']\n",
      "INFO:src.useless:Colunas: 31 → 19\n",
      "INFO:src.useless:Removidas 4 colunas constantes: ['inputBitrate', 'demuxCorrupted', 'demuxDiscontinuity', 'sendBitrate']\n",
      "INFO:src.useless:Colunas: 18 → 14\n",
      "INFO:src.missing:Nenhum valor ausente encontrado\n",
      "INFO:src.missing:Nenhum valor ausente encontrado\n",
      "INFO:src.outlier:Outliers IQR removidos: 4219 linhas (13.5%)\n",
      "INFO:src.outlier:Outliers IQR removidos: 326086 linhas (56.6%)\n",
      "INFO:src.loader:Realizando merge (inner) dos datasets...\n",
      "INFO:src.normalize:Novo scaler standard criado e ajustado\n",
      "INFO:src.loader:Dataset final: 210560 amostras, 18 features\n",
      "INFO:src.loader:Normalização aplicada: standard\n",
      "INFO:src.pipeline:Pipeline concluído com sucesso!\n"
     ]
    }
   ],
   "source": [
    "data_processor = INTDataProcessor()\n",
    "features, labels = data_processor.process_pipeline()"
   ]
  },
  {
   "cell_type": "code",
   "execution_count": null,
   "id": "191d54f6",
   "metadata": {},
   "outputs": [
    {
     "data": {
      "text/plain": [
       "array([[-1.72423524, -1.72423521, -1.38170295, ...,  0.        ,\n",
       "        -0.70423863,  0.        ],\n",
       "       [-1.72422965, -1.72422965, -1.38166059, ...,  0.        ,\n",
       "        -0.7576127 ,  0.        ],\n",
       "       [-1.72421644, -1.72421646, -1.38156016, ...,  0.        ,\n",
       "        -0.68644728,  0.        ],\n",
       "       ...,\n",
       "       [ 1.70024962,  1.70024962,  0.38371164, ...,  0.        ,\n",
       "         0.9859401 ,  0.        ],\n",
       "       [ 1.70029288,  1.70029287,  0.38404105, ...,  0.        ,\n",
       "        -0.63307321,  0.        ],\n",
       "       [ 1.700298  ,  1.70029797,  0.38407986, ...,  0.        ,\n",
       "        -0.70423863,  0.        ]])"
      ]
     },
     "execution_count": 3,
     "metadata": {},
     "output_type": "execute_result"
    }
   ],
   "source": []
  },
  {
   "cell_type": "code",
   "execution_count": null,
   "id": "732bf40d",
   "metadata": {},
   "outputs": [],
   "source": []
  }
 ],
 "metadata": {
  "kernelspec": {
   "display_name": "base",
   "language": "python",
   "name": "python3"
  },
  "language_info": {
   "codemirror_mode": {
    "name": "ipython",
    "version": 3
   },
   "file_extension": ".py",
   "mimetype": "text/x-python",
   "name": "python",
   "nbconvert_exporter": "python",
   "pygments_lexer": "ipython3",
   "version": "3.12.7"
  }
 },
 "nbformat": 4,
 "nbformat_minor": 5
}
