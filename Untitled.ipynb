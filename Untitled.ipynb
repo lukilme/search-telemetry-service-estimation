{
 "cells": [
  {
   "cell_type": "code",
   "execution_count": 1,
   "id": "23442cab-693e-4802-8b08-1994175aea70",
   "metadata": {},
   "outputs": [],
   "source": [
    "from util import *\n",
    "\n",
    "import pandas as pd\n",
    "import numpy as np\n",
    "import seaborn as sns\n",
    "import matplotlib.pyplot as plt\n",
    "import xgboost as xgb\n",
    "import pickle\n",
    "\n",
    "from xgboost import XGBRegressor\n",
    "from sklearn.ensemble import RandomForestRegressor\n",
    "from sklearn.metrics import mean_absolute_error, make_scorer\n",
    "from sklearn.model_selection import KFold\n",
    "from sklearn.preprocessing import StandardScaler\n",
    "from sklearn.model_selection import train_test_split, cross_val_score, GridSearchCV\n",
    "from sklearn.decomposition import PCA\n",
    "from joblib import dump, load"
   ]
  },
  {
   "cell_type": "code",
   "execution_count": 2,
   "id": "aa9fdfc6-dfc3-4488-9ea5-92e6750a6ef1",
   "metadata": {},
   "outputs": [],
   "source": [
    "# telemetry data\n",
    "data_log = pd.read_csv(\"datasets/log_INT_sinusoid_8h.txt\", delimiter=\",\")\n",
    "data_log.columns = data_log.columns.str.replace(\" \", \"\")\n",
    "# QoS data\n",
    "data_dash = pd.read_csv(\"datasets/dash_sinusoid_8h.log\", sep=\",\")"
   ]
  },
  {
   "cell_type": "code",
   "execution_count": 3,
   "id": "4c232c0d",
   "metadata": {},
   "outputs": [
    {
     "name": "stdout",
     "output_type": "stream",
     "text": [
      "General DataFrame Information:\n",
      "\n",
      "Statistical Summary:\n",
      "          timestamp  switchID_t3  ingress_port3  egress_port3  egress_spec3  ingress_global_timestamp3  egress_global_timestamp3  enq_timestamp3    enq_qdepth3  deq_timedelta3    deq_qdepth3  \\\n",
      "count  5.757060e+05     575706.0       575706.0      575706.0      575706.0               5.757060e+05              5.757060e+05    5.757060e+05  575706.000000   575706.000000  575706.000000   \n",
      "mean   1.621915e+09          3.0            0.0           2.0           0.0               5.522432e+10              5.522432e+10    2.106972e+09       0.008876      120.159408       0.009267   \n",
      "std    9.305413e+03          0.0            0.0           0.0           0.0               9.305421e+09              9.305421e+09    1.216741e+09       0.189055     1275.065217       0.191469   \n",
      "min    1.621899e+09          3.0            0.0           2.0           0.0               3.909487e+10              3.909487e+10    8.680000e+03       0.000000        4.000000       0.000000   \n",
      "25%    1.621907e+09          3.0            0.0           2.0           0.0               4.716511e+10              4.716511e+10    1.065976e+09       0.000000       35.000000       0.000000   \n",
      "50%    1.621915e+09          3.0            0.0           2.0           0.0               5.522714e+10              5.522714e+10    2.073497e+09       0.000000       64.000000       0.000000   \n",
      "75%    1.621923e+09          3.0            0.0           2.0           0.0               6.329102e+10              6.329102e+10    3.142831e+09       0.000000       96.000000       0.000000   \n",
      "max    1.621932e+09          3.0            0.0           2.0           0.0               7.135217e+10              7.135218e+10    4.294966e+09      15.000000   361486.000000      15.000000   \n",
      "\n",
      "       switchID_t2  ingress_port2  egress_port2  egress_spec2  ingress_global_timestamp2  egress_global_timestamp2  enq_timestamp2    enq_qdepth2  deq_timedelta2    deq_qdepth2  switchID_t1  \\\n",
      "count     575706.0       575706.0      575706.0      575706.0               5.757060e+05              5.757060e+05    5.757060e+05  575706.000000   575706.000000  575706.000000     575706.0   \n",
      "mean           2.0            0.0           1.0           0.0               5.529871e+10              5.529871e+10    2.112818e+09       0.764123      744.275226       0.573671          1.0   \n",
      "std            0.0            0.0           0.0           0.0               9.305447e+09              9.305447e+09    1.214643e+09       2.946958    14125.109117       2.036120          0.0   \n",
      "min            2.0            0.0           1.0           0.0               3.916912e+10              3.916912e+10    1.726000e+03       0.000000        2.000000       0.000000          1.0   \n",
      "25%            2.0            0.0           1.0           0.0               4.723956e+10              4.723956e+10    1.076358e+09       0.000000       27.000000       0.000000          1.0   \n",
      "50%            2.0            0.0           1.0           0.0               5.530145e+10              5.530145e+10    2.082575e+09       0.000000       58.000000       0.000000          1.0   \n",
      "75%            2.0            0.0           1.0           0.0               6.336547e+10              6.336547e+10    3.144295e+09       0.000000      115.000000       0.000000          1.0   \n",
      "max            2.0            0.0           1.0           0.0               7.142645e+10              7.142645e+10    4.294949e+09      63.000000   501805.000000      64.000000          1.0   \n",
      "\n",
      "       ingress_port1  egress_port1  egress_spec1  ingress_global_timestamp1  egress_global_timestamp1  enq_timestamp1    enq_qdepth1  deq_timedelta1    deq_qdepth1  \n",
      "count       575706.0      575706.0      575706.0               5.757060e+05              5.757060e+05    5.757060e+05  575706.000000   575706.000000  575706.000000  \n",
      "mean             0.0           1.0           0.0               5.537457e+10              5.537457e+10    2.120217e+09       1.386154      907.193972       1.071952  \n",
      "std              0.0           0.0           0.0               9.305413e+09              9.305413e+09    1.212905e+09       4.422952    15186.872895       3.629819  \n",
      "min              0.0           1.0           0.0               3.924505e+10              3.924505e+10    2.199300e+04       0.000000        2.000000       0.000000  \n",
      "25%              0.0           1.0           0.0               4.731548e+10              4.731549e+10    1.088812e+09       0.000000       25.000000       0.000000  \n",
      "50%              0.0           1.0           0.0               5.537731e+10              5.537731e+10    2.094158e+09       0.000000       57.000000       0.000000  \n",
      "75%              0.0           1.0           0.0               6.344140e+10              6.344140e+10    3.145175e+09       0.000000      147.000000       0.000000  \n",
      "max              0.0           1.0           0.0               7.150237e+10              7.150237e+10    4.294963e+09      63.000000   733211.000000      64.000000  \n",
      "\n",
      "First Rows of DataFrame:\n",
      "    timestamp  switchID_t3  ingress_port3  egress_port3  egress_spec3  ingress_global_timestamp3  egress_global_timestamp3  enq_timestamp3  enq_qdepth3  deq_timedelta3  deq_qdepth3  switchID_t2  \\\n",
      "0  1621899282            3              0             2             0                39094865473               39094865660       440159961            0              39            0            2   \n",
      "1  1621899282            3              0             2             0                39094947171               39094947281       440241591            0              29            0            2   \n",
      "2  1621899282            3              0             2             0                39095064755               39095064937       440359239            0              36            0            2   \n",
      "3  1621899282            3              0             2             0                39095165462               39095165651       440459953            0              37            0            2   \n",
      "4  1621899282            3              0             2             0                39095283945               39095284124       440578433            0              29            0            2   \n",
      "\n",
      "   ingress_port2  egress_port2  egress_spec2  ingress_global_timestamp2  egress_global_timestamp2  enq_timestamp2  enq_qdepth2  deq_timedelta2  deq_qdepth2  switchID_t1  ingress_port1  egress_port1  \\\n",
      "0              0             1             0                39169118133               39169118318       514412620            0              36            0            1              0             1   \n",
      "1              0             1             0                39169199652               39169199877       514494180            0              35            0            1              0             1   \n",
      "2              0             1             0                39169317436               39169317605       514611910            0              34            0            1              0             1   \n",
      "3              0             1             0                39169418150               39169418331       514712634            0              36            0            1              0             1   \n",
      "4              0             1             0                39169536646               39169536827       514831136            0              29            0            1              0             1   \n",
      "\n",
      "   egress_spec1  ingress_global_timestamp1  egress_global_timestamp1  enq_timestamp1  enq_qdepth1  deq_timedelta1  deq_qdepth1  \n",
      "0             0                39245046271               39245046453       590340761            0              30            0  \n",
      "1             0                39245127761               39245127953       590422260            0              32            0  \n",
      "2             0                39245245663               39245245851       590540158            0              31            0  \n",
      "3             0                39245346337               39245346527       590640834            0              31            0  \n",
      "4             0                39245464819               39245465008       590759307            0              38            0  \n",
      "\n",
      "Format (rows, columns):\n",
      "(575706, 31)\n"
     ]
    }
   ],
   "source": [
    "decompose_dataframe(data_log)"
   ]
  },
  {
   "cell_type": "code",
   "execution_count": 4,
   "id": "216685bd",
   "metadata": {},
   "outputs": [
    {
     "name": "stdout",
     "output_type": "stream",
     "text": [
      "General DataFrame Information:\n",
      "\n",
      "Statistical Summary:\n",
      "          timestamp  inputBitrate  demuxBitrate  demuxCorrupted  demuxDiscontinuity  sendBitrate  framesDisplayed  playedAudioBuffers   decodedVideo  decodedAudio  framesDisplayedAux  \\\n",
      "count  3.124300e+04       31243.0  31243.000000         31243.0             31243.0      31243.0     31243.000000        31243.000000   31243.000000  3.124300e+04        31243.000000   \n",
      "mean   1.621915e+09           0.0      0.099062             0.0                 0.0          0.0     67250.653042       131474.052588  141711.446244  2.641634e+05        67229.631437   \n",
      "std    9.397018e+03           0.0      4.586347             0.0                 0.0          0.0     38593.837384        74661.761533   80597.321977  1.515698e+05        38594.518156   \n",
      "min    1.621899e+09           0.0      0.000000             0.0                 0.0          0.0         0.000000            0.000000       0.000000  0.000000e+00            0.000000   \n",
      "25%    1.621907e+09           0.0      0.000000             0.0                 0.0          0.0     33820.000000        66935.000000   71946.000000  1.340720e+05        33793.500000   \n",
      "50%    1.621916e+09           0.0      0.000000             0.0                 0.0          0.0     67379.000000       132569.000000  142935.000000  2.656290e+05        67362.000000   \n",
      "75%    1.621924e+09           0.0      0.000000             0.0                 0.0          0.0    100678.000000       197007.000000  212375.000000  3.948050e+05       100655.000000   \n",
      "max    1.621932e+09           0.0    459.000000             0.0                 0.0          0.0    138157.000000       251625.000000  282387.000000  1.009789e+06       138157.000000   \n",
      "\n",
      "       playedAudioBuffersAux  decodedVideoAux  decodedAudioAux  framesDisplayedCalc  playedAudioBuffersCalc  decodedVideoCalc  decodedAudioCalc  \n",
      "count           31243.000000     31243.000000     3.124300e+04         31243.000000            31243.000000      31243.000000      31243.000000  \n",
      "mean           131435.364210    141668.570016     2.640342e+05            21.021989               38.688378         42.906731        131.225619  \n",
      "std             74667.125585     80601.207755     1.514194e+05            95.217199               14.534459         39.528317       1044.283927  \n",
      "min                 0.000000         0.000000     0.000000e+00             0.000000                0.000000          0.000000          0.000000  \n",
      "25%             66894.500000     71897.500000     1.339800e+05            13.000000               35.000000         30.000000         70.000000  \n",
      "50%            132533.000000    142911.000000     2.655370e+05            20.000000               45.000000         42.000000         90.000000  \n",
      "75%            196968.500000    212328.500000     3.947040e+05            29.000000               46.000000         56.000000         92.000000  \n",
      "max            251625.000000    282387.000000     1.009789e+06          8939.000000              153.000000       1455.000000      29244.000000  \n",
      "\n",
      "First Rows of DataFrame:\n",
      "    timestamp  inputBitrate  demuxBitrate  demuxCorrupted  demuxDiscontinuity  sendBitrate  framesDisplayed  playedAudioBuffers  decodedVideo  decodedAudio  framesDisplayedAux  \\\n",
      "0  1621899288             0             0               0                   0            0                0                   0             0             0                   0   \n",
      "1  1621899289             0             0               0                   0            0                0                   0             0             0                   0   \n",
      "2  1621899290             0             0               0                   0            0                4                  76            57           153                   0   \n",
      "3  1621899291             0             0               0                   0            0               24                 124            97           249                   4   \n",
      "4  1621899292             0             0               0                   0            0               39                 160           127           321                  24   \n",
      "\n",
      "   playedAudioBuffersAux  decodedVideoAux  decodedAudioAux  framesDisplayedCalc  playedAudioBuffersCalc  decodedVideoCalc  decodedAudioCalc  \n",
      "0                      0                0                0                    0                       0                 0                 0  \n",
      "1                      0                0                0                    0                       0                 0                 0  \n",
      "2                      0                0                0                    4                      76                57               153  \n",
      "3                     76               57              153                   20                      48                40                96  \n",
      "4                    124               97              249                   15                      36                30                72  \n",
      "\n",
      "Format (rows, columns):\n",
      "(31243, 18)\n"
     ]
    }
   ],
   "source": [
    "decompose_dataframe(data_dash)"
   ]
  },
  {
   "cell_type": "code",
   "execution_count": null,
   "id": "e5d5d165",
   "metadata": {},
   "outputs": [],
   "source": []
  }
 ],
 "metadata": {
  "kernelspec": {
   "display_name": "Python 3 (ipykernel)",
   "language": "python",
   "name": "python3"
  },
  "language_info": {
   "codemirror_mode": {
    "name": "ipython",
    "version": 3
   },
   "file_extension": ".py",
   "mimetype": "text/x-python",
   "name": "python",
   "nbconvert_exporter": "python",
   "pygments_lexer": "ipython3",
   "version": "3.12.6"
  }
 },
 "nbformat": 4,
 "nbformat_minor": 5
}
